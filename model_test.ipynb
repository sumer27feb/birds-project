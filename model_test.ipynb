{
 "cells": [
  {
   "cell_type": "code",
   "execution_count": 1,
   "id": "d7e0cef7-fb6b-4e04-8ff1-b53f262c7e07",
   "metadata": {},
   "outputs": [],
   "source": [
    "import numpy as np\n",
    "import tensorflow as tf\n",
    "import keras"
   ]
  },
  {
   "cell_type": "code",
   "execution_count": 2,
   "id": "c3227536-f7ff-4668-bc34-90e5ae3e1443",
   "metadata": {},
   "outputs": [],
   "source": [
    "def F1_score(y_true, y_pred):\n",
    "    # Calculate precision and recall\n",
    "    true_positives = K.sum(K.round(K.clip(y_true * y_pred, 0, 1)))\n",
    "    possible_positives = K.sum(K.round(K.clip(y_true, 0, 1)))\n",
    "    predicted_positives = K.sum(K.round(K.clip(y_pred, 0, 1)))\n",
    "    precision = true_positives / (predicted_positives + K.epsilon())\n",
    "    recall = true_positives / (possible_positives + K.epsilon())\n",
    "\n",
    "    # Calculate F1 score\n",
    "    f1_val = 2*(precision*recall)/(precision+recall+K.epsilon())\n",
    "    return f1_val"
   ]
  },
  {
   "cell_type": "code",
   "execution_count": 3,
   "id": "825c9a60-6c09-4545-9578-e5fcb6fba606",
   "metadata": {},
   "outputs": [],
   "source": [
    "from keras.models import load_model"
   ]
  },
  {
   "cell_type": "code",
   "execution_count": 4,
   "id": "592a3d63-413c-4201-bce0-7ef32517605f",
   "metadata": {},
   "outputs": [],
   "source": [
    "# Load the model\n",
    "model = load_model('birds_model.h5', custom_objects={'F1_score': F1_score})"
   ]
  },
  {
   "cell_type": "code",
   "execution_count": 10,
   "id": "03a9e263-9c8e-4678-9680-d9f6d102c3dd",
   "metadata": {},
   "outputs": [],
   "source": [
    "from PIL import Image\n",
    "import numpy as np\n",
    "\n",
    "def preprocess_image(image_path):\n",
    "    # Load the image\n",
    "    img = Image.open(image_path)\n",
    "\n",
    "    # Resize the image to the size your model expects\n",
    "    img = img.resize((224, 224))\n",
    "\n",
    "    # Convert the image to a NumPy array\n",
    "    img_array = np.array(img)\n",
    "\n",
    "    # Ensure the image has 3 color channels\n",
    "    if len(img_array.shape) == 2:\n",
    "        img_array = np.repeat(img_array[:, :, np.newaxis], 3, axis=2)\n",
    "\n",
    "    # Scale pixel values to [0, 1]\n",
    "    #img_array = img_array / 255.0\n",
    "\n",
    "    # Expand dimensions so the image has a batch dimension\n",
    "    img_array = np.expand_dims(img_array, axis=0)\n",
    "\n",
    "    return img_array"
   ]
  },
  {
   "cell_type": "code",
   "execution_count": 11,
   "id": "0700eb27-9757-44c3-96aa-af5ef8750f0c",
   "metadata": {},
   "outputs": [
    {
     "name": "stdout",
     "output_type": "stream",
     "text": [
      "1/1 [==============================] - 1s 1s/step\n"
     ]
    }
   ],
   "source": [
    "# Preprocess the image\n",
    "img_array = preprocess_image('004.jpg')\n",
    "\n",
    "# Now you can pass this to model.predict\n",
    "prediction = model.predict(img_array)"
   ]
  },
  {
   "cell_type": "code",
   "execution_count": 12,
   "id": "e6d841b5-f899-43aa-96b3-9fe8bf4905bc",
   "metadata": {},
   "outputs": [
    {
     "name": "stdout",
     "output_type": "stream",
     "text": [
      "The predicted class is: 424\n"
     ]
    }
   ],
   "source": [
    "predicted_class = np.argmax(prediction)\n",
    "\n",
    "print(f\"The predicted class is: {predicted_class}\")"
   ]
  },
  {
   "cell_type": "code",
   "execution_count": 13,
   "id": "4af03ea8-2539-4b80-a2f9-6655178c3d93",
   "metadata": {},
   "outputs": [
    {
     "ename": "NameError",
     "evalue": "name 'class_names' is not defined",
     "output_type": "error",
     "traceback": [
      "\u001b[1;31m---------------------------------------------------------------------------\u001b[0m",
      "\u001b[1;31mNameError\u001b[0m                                 Traceback (most recent call last)",
      "Cell \u001b[1;32mIn[13], line 1\u001b[0m\n\u001b[1;32m----> 1\u001b[0m predicted_class_name \u001b[38;5;241m=\u001b[39m \u001b[43mclass_names\u001b[49m[predicted_class]\n\u001b[0;32m      3\u001b[0m \u001b[38;5;28mprint\u001b[39m(\u001b[38;5;124mf\u001b[39m\u001b[38;5;124m\"\u001b[39m\u001b[38;5;124mThe predicted class is: \u001b[39m\u001b[38;5;132;01m{\u001b[39;00mpredicted_class_name\u001b[38;5;132;01m}\u001b[39;00m\u001b[38;5;124m\"\u001b[39m)\n",
      "\u001b[1;31mNameError\u001b[0m: name 'class_names' is not defined"
     ]
    }
   ],
   "source": [
    "predicted_class_name = class_names[predicted_class]\n",
    "\n",
    "print(f\"The predicted class is: {predicted_class_name}\")"
   ]
  },
  {
   "cell_type": "code",
   "execution_count": null,
   "id": "09763740-02f5-49c4-b0cc-3e0468525210",
   "metadata": {},
   "outputs": [],
   "source": []
  }
 ],
 "metadata": {
  "kernelspec": {
   "display_name": "Python 3 (ipykernel)",
   "language": "python",
   "name": "python3"
  },
  "language_info": {
   "codemirror_mode": {
    "name": "ipython",
    "version": 3
   },
   "file_extension": ".py",
   "mimetype": "text/x-python",
   "name": "python",
   "nbconvert_exporter": "python",
   "pygments_lexer": "ipython3",
   "version": "3.8.18"
  }
 },
 "nbformat": 4,
 "nbformat_minor": 5
}
